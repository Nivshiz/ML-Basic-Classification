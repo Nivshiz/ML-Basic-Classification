{
 "cells": [
  {
   "cell_type": "markdown",
   "metadata": {
    "colab_type": "text",
    "id": "0MRC0e0KhQ0S"
   },
   "source": [
    "# Assignment - Classification"
   ]
  },
  {
   "cell_type": "markdown",
   "metadata": {
    "colab_type": "text",
    "id": "LWd1UlMnhT2s"
   },
   "source": [
    "## Importing the libraries"
   ]
  },
  {
   "cell_type": "code",
   "execution_count": 1,
   "metadata": {},
   "outputs": [],
   "source": [
    "import numpy as np\n",
    "import matplotlib.pyplot as plt\n",
    "import pandas as pd\n",
    "import seaborn as sns"
   ]
  },
  {
   "cell_type": "markdown",
   "metadata": {
    "colab_type": "text",
    "id": "K1VMqkGvhc3-"
   },
   "source": [
    "## Importing the dataset"
   ]
  },
  {
   "cell_type": "code",
   "execution_count": 2,
   "metadata": {},
   "outputs": [],
   "source": [
    "dataset = pd.read_csv('dataset.csv')\n",
    "X = dataset.iloc[:, :-1].values\n",
    "y = dataset.iloc[:, -1].values\n",
    "evaluation_results = pd.DataFrame(columns = ['Model', 'F1-score', 'Std', 'Best Parameter'])"
   ]
  },
  {
   "cell_type": "markdown",
   "metadata": {},
   "source": [
    "## Checking the Balance of the dataset"
   ]
  },
  {
   "cell_type": "code",
   "execution_count": 3,
   "metadata": {},
   "outputs": [
    {
     "name": "stdout",
     "output_type": "stream",
     "text": [
      "The ratio of \"no purchased\" to \"purchased\" instances is 39:61\n"
     ]
    }
   ],
   "source": [
    "count_no_purc = len(dataset[dataset['Purchased']==0])\n",
    "count_purc = len(dataset[dataset['Purchased']==1])\n",
    "pct_of_no_purc = count_no_purc / (count_no_purc + count_purc)\n",
    "pct_of_purc = count_purc / (count_no_purc + count_purc)\n",
    "print(f'The ratio of \"no purchased\" to \"purchased\" instances is {round(pct_of_no_purc*100)}:{round(pct_of_purc*100)}')"
   ]
  },
  {
   "cell_type": "code",
   "execution_count": 4,
   "metadata": {},
   "outputs": [
    {
     "data": {
      "image/png": "[encoded data removed]",
      "text/plain": [
       "<Figure size 432x288 with 1 Axes>"
      ]
     },
     "metadata": {
      "needs_background": "light"
     },
     "output_type": "display_data"
    }
   ],
   "source": [
    "sns.countplot(y,data = dataset['Purchased'], palette='hls')\n",
    "plt.show()"
   ]
  },
  {
   "cell_type": "code",
   "execution_count": 6,
   "metadata": {},
   "outputs": [
    {
     "data": {
      "text/html": [
       "<div>\n",
       "<style scoped>\n",
       "    .dataframe tbody tr th:only-of-type {\n",
       "        vertical-align: middle;\n",
       "    }\n",
       "\n",
       "    .dataframe tbody tr th {\n",
       "        vertical-align: top;\n",
       "    }\n",
       "\n",
       "    .dataframe thead th {\n",
       "        text-align: right;\n",
       "    }\n",
       "</style>\n",
       "<table border=\"1\" class=\"dataframe\">\n",
       "  <thead>\n",
       "    <tr style=\"text-align: right;\">\n",
       "      <th></th>\n",
       "      <th>Height</th>\n",
       "      <th>Salary</th>\n",
       "    </tr>\n",
       "    <tr>\n",
       "      <th>Purchased</th>\n",
       "      <th></th>\n",
       "      <th></th>\n",
       "    </tr>\n",
       "  </thead>\n",
       "  <tbody>\n",
       "    <tr>\n",
       "      <th>0</th>\n",
       "      <td>173.621483</td>\n",
       "      <td>24261.194373</td>\n",
       "    </tr>\n",
       "    <tr>\n",
       "      <th>1</th>\n",
       "      <td>179.018033</td>\n",
       "      <td>41584.926230</td>\n",
       "    </tr>\n",
       "  </tbody>\n",
       "</table>\n",
       "</div>"
      ],
      "text/plain": [
       "               Height        Salary\n",
       "Purchased                          \n",
       "0          173.621483  24261.194373\n",
       "1          179.018033  41584.926230"
      ]
     },
     "execution_count": 6,
     "metadata": {},
     "output_type": "execute_result"
    }
   ],
   "source": [
    "dataset.groupby('Purchased').mean()"
   ]
  },
  {
   "cell_type": "markdown",
   "metadata": {
    "colab_type": "text",
    "id": "YvxIPVyMhmKp"
   },
   "source": [
    "## Splitting the dataset into the Training set and Test set"
   ]
  },
  {
   "cell_type": "code",
   "execution_count": 8,
   "metadata": {},
   "outputs": [],
   "source": [
    "from sklearn.model_selection import train_test_split\n",
    "X_train, X_test, y_train, y_test = train_test_split(X, y, test_size = 0.2, random_state = 0)"
   ]
  },
  {
   "cell_type": "code",
   "execution_count": 9,
   "metadata": {},
   "outputs": [
    {
     "name": "stdout",
     "output_type": "stream",
     "text": [
      "[[  171 18470]\n",
      " [  194 59989]\n",
      " [  158 30162]\n",
      " ...\n",
      " [  194 36553]\n",
      " [  171 30911]\n",
      " [  197 32474]]\n"
     ]
    }
   ],
   "source": [
    "print(X_train)"
   ]
  },
  {
   "cell_type": "code",
   "execution_count": 10,
   "metadata": {},
   "outputs": [
    {
     "name": "stdout",
     "output_type": "stream",
     "text": [
      "[[  172 10273]\n",
      " [  183 50394]\n",
      " [  194 23418]\n",
      " [  202 33214]\n",
      " [  204 18076]\n",
      " [  205 37637]\n",
      " [  166 30469]\n",
      " [  166 31425]\n",
      " [  167 49560]\n",
      " [  160 13467]\n",
      " [  183 22437]\n",
      " [  183 35948]\n",
      " [  196 58478]\n",
      " [  158 44704]\n",
      " [  198 33254]\n",
      " [  197 10283]\n",
      " [  158 49775]\n",
      " [  150 14678]\n",
      " [  181 48339]\n",
      " [  178 18453]\n",
      " [  202 26816]\n",
      " [  168 30682]\n",
      " [  177 50241]\n",
      " [  185 39565]\n",
      " [  185 48558]\n",
      " [  172 51781]\n",
      " [  196 43651]\n",
      " [  174 10742]\n",
      " [  193 11818]\n",
      " [  161 13624]\n",
      " [  156 44968]\n",
      " [  204 36179]\n",
      " [  157 44384]\n",
      " [  190 46038]\n",
      " [  166 54334]\n",
      " [  192 45725]\n",
      " [  164 33719]\n",
      " [  156 55007]\n",
      " [  205 18601]\n",
      " [  180 51588]\n",
      " [  178 43737]\n",
      " [  191 36498]\n",
      " [  170 53295]\n",
      " [  163 25722]\n",
      " [  164 21477]\n",
      " [  203 12623]\n",
      " [  179 14217]\n",
      " [  192 21819]\n",
      " [  175 21191]\n",
      " [  162 25548]\n",
      " [  162 38800]\n",
      " [  186 55507]\n",
      " [  203 22738]\n",
      " [  155 14528]\n",
      " [  159 16279]\n",
      " [  181 47110]\n",
      " [  159 57471]\n",
      " [  175 52107]\n",
      " [  153 44330]\n",
      " [  159 44960]\n",
      " [  183 35589]\n",
      " [  165 24498]\n",
      " [  193 28362]\n",
      " [  166 14642]\n",
      " [  177 44170]\n",
      " [  166 55764]\n",
      " [  190 36670]\n",
      " [  176 55265]\n",
      " [  170 15253]\n",
      " [  188 14420]\n",
      " [  172 52368]\n",
      " [  163 51206]\n",
      " [  154 28874]\n",
      " [  179 40968]\n",
      " [  200 33053]\n",
      " [  176 19322]\n",
      " [  167 14361]\n",
      " [  167 53376]\n",
      " [  182 49520]\n",
      " [  167 22780]\n",
      " [  171 25684]\n",
      " [  161 50717]\n",
      " [  159 22992]\n",
      " [  192 18512]\n",
      " [  177 39681]\n",
      " [  202 17644]\n",
      " [  182 58079]\n",
      " [  185 53858]\n",
      " [  176 37760]\n",
      " [  162 57318]\n",
      " [  172 18383]\n",
      " [  193 40112]\n",
      " [  169 39503]\n",
      " [  195 56142]\n",
      " [  197 26172]\n",
      " [  154 28710]\n",
      " [  167 55508]\n",
      " [  161 53413]\n",
      " [  155 31672]\n",
      " [  199 51610]\n",
      " [  192 40064]\n",
      " [  173 11929]\n",
      " [  186 45783]\n",
      " [  175 17622]\n",
      " [  185 42059]\n",
      " [  205 21883]\n",
      " [  168 58473]\n",
      " [  196 31825]\n",
      " [  154 23067]\n",
      " [  187 35830]\n",
      " [  186 43043]\n",
      " [  180 22614]\n",
      " [  191 27344]\n",
      " [  191 27608]\n",
      " [  159 57828]\n",
      " [  165 40638]\n",
      " [  167 38216]\n",
      " [  176 19247]\n",
      " [  191 16606]\n",
      " [  180 18513]\n",
      " [  184 16426]\n",
      " [  150 47707]\n",
      " [  188 47381]\n",
      " [  150 31023]\n",
      " [  202 55890]\n",
      " [  198 52846]\n",
      " [  160 53932]\n",
      " [  161 43231]\n",
      " [  155 11879]\n",
      " [  201 52156]\n",
      " [  187 48593]\n",
      " [  198 20713]\n",
      " [  169 16473]\n",
      " [  178 18746]\n",
      " [  170 54500]\n",
      " [  167 32221]\n",
      " [  178 44699]\n",
      " [  177 55182]\n",
      " [  158 33787]\n",
      " [  150 37220]\n",
      " [  152 31913]\n",
      " [  197 42619]\n",
      " [  203 19976]\n",
      " [  170 58683]\n",
      " [  203 32969]\n",
      " [  181 36978]\n",
      " [  175 20849]\n",
      " [  171 41055]\n",
      " [  165 11200]\n",
      " [  194 38258]\n",
      " [  184 42383]\n",
      " [  189 32893]\n",
      " [  204 32945]\n",
      " [  203 34409]\n",
      " [  176 20418]\n",
      " [  186 31778]\n",
      " [  204 40054]\n",
      " [  168 42127]\n",
      " [  201 36457]\n",
      " [  187 12376]\n",
      " [  198 50899]\n",
      " [  155 21138]\n",
      " [  174 34659]\n",
      " [  182 55570]\n",
      " [  196 59554]\n",
      " [  160 39715]\n",
      " [  185 56891]\n",
      " [  191 14568]\n",
      " [  190 13180]\n",
      " [  170 17344]\n",
      " [  171 18537]\n",
      " [  195 37019]\n",
      " [  205 30218]\n",
      " [  189 31847]\n",
      " [  197 32177]\n",
      " [  187 27824]\n",
      " [  204 43616]\n",
      " [  161 19830]\n",
      " [  183 34944]\n",
      " [  177 44912]\n",
      " [  191 26921]\n",
      " [  199 47981]\n",
      " [  171 59003]\n",
      " [  170 43198]\n",
      " [  165 27064]\n",
      " [  169 36843]\n",
      " [  171 33297]\n",
      " [  199 17428]\n",
      " [  204 43211]\n",
      " [  161 44769]\n",
      " [  184 43717]\n",
      " [  152 54815]\n",
      " [  189 24726]\n",
      " [  169 19664]\n",
      " [  155 19038]\n",
      " [  152 56717]\n",
      " [  197 57159]\n",
      " [  172 40190]\n",
      " [  150 49044]\n",
      " [  204 57259]\n",
      " [  166 12355]]\n"
     ]
    }
   ],
   "source": [
    "print(X_test)"
   ]
  },
  {
   "cell_type": "markdown",
   "metadata": {
    "colab_type": "text",
    "id": "kW3c7UYih0hT"
   },
   "source": [
    "## Feature Scaling"
   ]
  },
  {
   "cell_type": "code",
   "execution_count": 12,
   "metadata": {},
   "outputs": [],
   "source": [
    "from sklearn.preprocessing import StandardScaler\n",
    "sc = StandardScaler()\n",
    "X_train = sc.fit_transform(X_train)\n",
    "X_test = sc.transform(X_test)"
   ]
  },
  {
   "cell_type": "code",
   "execution_count": 13,
   "metadata": {},
   "outputs": [
    {
     "name": "stdout",
     "output_type": "stream",
     "text": [
      "[[-0.33625629 -1.11653024]\n",
      " [ 1.05629735  1.74353401]\n",
      " [-1.12335183 -0.31111896]\n",
      " ...\n",
      " [ 1.05629735  0.12912938]\n",
      " [-0.33625629 -0.25952359]\n",
      " [ 1.23793478 -0.15185528]]\n"
     ]
    }
   ],
   "source": [
    "print(X_train)"
   ]
  },
  {
   "cell_type": "code",
   "execution_count": 14,
   "metadata": {},
   "outputs": [
    {
     "name": "stdout",
     "output_type": "stream",
     "text": [
      "[[-2.75710484e-01 -1.68118610e+00]\n",
      " [ 3.90293430e-01  1.08257598e+00]\n",
      " [ 1.05629735e+00 -7.75683934e-01]\n",
      " [ 1.54066383e+00 -1.00879882e-01]\n",
      " [ 1.66175545e+00 -1.14367120e+00]\n",
      " [ 1.72230126e+00  2.03801449e-01]\n",
      " [-6.38985347e-01 -2.89971054e-01]\n",
      " [-6.38985347e-01 -2.24116351e-01]\n",
      " [-5.78439536e-01  1.02512533e+00]\n",
      " [-1.00226021e+00 -1.46116527e+00]\n",
      " [ 3.90293430e-01 -8.43260779e-01]\n",
      " [ 3.90293430e-01  8.74535477e-02]\n",
      " [ 1.17738897e+00  1.63944776e+00]\n",
      " [-1.12335183e+00  6.90616500e-01]\n",
      " [ 1.29848059e+00 -9.81244551e-02]\n",
      " [ 1.23793478e+00 -1.68049725e+00]\n",
      " [-1.12335183e+00  1.03993575e+00]\n",
      " [-1.60771831e+00 -1.37774472e+00]\n",
      " [ 2.69201810e-01  9.41015921e-01]\n",
      " [ 8.75643783e-02 -1.11770130e+00]\n",
      " [ 1.54066383e+00 -5.41610417e-01]\n",
      " [-5.17893726e-01 -2.75298406e-01]\n",
      " [ 2.70185679e-02  1.07203647e+00]\n",
      " [ 5.11385051e-01  3.36613027e-01]\n",
      " [ 5.11385051e-01  9.56101883e-01]\n",
      " [-2.75710484e-01  1.17812041e+00]\n",
      " [ 1.17738897e+00  6.18079886e-01]\n",
      " [-1.54618863e-01 -1.64887872e+00]\n",
      " [ 9.95751535e-01 -1.57475774e+00]\n",
      " [-9.41714399e-01 -1.45035021e+00]\n",
      " [-1.24444345e+00  7.08802318e-01]\n",
      " [ 1.66175545e+00  1.03366138e-01]\n",
      " [-1.18389764e+00  6.68573085e-01]\n",
      " [ 8.14114103e-01  7.82509988e-01]\n",
      " [-6.38985347e-01  1.35398553e+00]\n",
      " [ 9.35205724e-01  7.60948772e-01]\n",
      " [-7.60076968e-01 -6.60926172e-02]\n",
      " [-1.24444345e+00  1.40034559e+00]\n",
      " [ 1.72230126e+00 -1.10750622e+00]\n",
      " [ 2.08655999e-01  1.16482547e+00]\n",
      " [ 8.75643783e-02  6.24004054e-01]\n",
      " [ 8.74659914e-01  1.25340668e-01]\n",
      " [-3.96802105e-01  1.28241332e+00]\n",
      " [-8.20622778e-01 -6.16971344e-01]\n",
      " [-7.60076968e-01 -9.09391025e-01]\n",
      " [ 1.60120964e+00 -1.51930477e+00]\n",
      " [ 1.48110189e-01 -1.40950101e+00]\n",
      " [ 9.35205724e-01 -8.85832125e-01]\n",
      " [-9.40730529e-02 -9.29092328e-01]\n",
      " [-8.81168588e-01 -6.28957451e-01]\n",
      " [-8.81168588e-01  2.83915487e-01]\n",
      " [ 5.71930862e-01  1.43478842e+00]\n",
      " [ 1.60120964e+00 -8.22526192e-01]\n",
      " [-1.30498926e+00 -1.38807757e+00]\n",
      " [-1.06280602e+00 -1.26745875e+00]\n",
      " [ 2.69201810e-01  8.56355429e-01]\n",
      " [-1.06280602e+00  1.57007989e+00]\n",
      " [-9.40730529e-02  1.20057714e+00]\n",
      " [-1.42608088e+00  6.64853258e-01]\n",
      " [-1.06280602e+00  7.08251232e-01]\n",
      " [ 3.90293430e-01  6.27235912e-02]\n",
      " [-6.99531157e-01 -7.01287407e-01]\n",
      " [ 9.95751535e-01 -4.35113167e-01]\n",
      " [-6.38985347e-01 -1.38022460e+00]\n",
      " [ 2.70185679e-02  6.53831551e-01]\n",
      " [-6.38985347e-01  1.45249204e+00]\n",
      " [ 8.14114103e-01  1.37189004e-01]\n",
      " [-3.35272425e-02  1.41811809e+00]\n",
      " [-3.96802105e-01 -1.33813545e+00]\n",
      " [ 6.93022483e-01 -1.39551722e+00]\n",
      " [-2.75710484e-01  1.21855630e+00]\n",
      " [-8.20622778e-01  1.13851115e+00]\n",
      " [-1.36553507e+00 -3.99843703e-01]\n",
      " [ 1.48110189e-01  4.33259626e-01]\n",
      " [ 1.41957221e+00 -1.11970475e-01]\n",
      " [-3.35272425e-02 -1.05783965e+00]\n",
      " [-5.78439536e-01 -1.39958147e+00]\n",
      " [-5.78439536e-01  1.28799306e+00]\n",
      " [ 3.29747620e-01  1.02236990e+00]\n",
      " [-5.78439536e-01 -8.19632993e-01]\n",
      " [-3.36256295e-01 -6.19588999e-01]\n",
      " [-9.41714399e-01  1.10482605e+00]\n",
      " [-1.06280602e+00 -8.05029231e-01]\n",
      " [ 9.35205724e-01 -1.11363705e+00]\n",
      " [ 2.70185679e-02  3.44603765e-01]\n",
      " [ 1.54066383e+00 -1.17342981e+00]\n",
      " [ 3.29747620e-01  1.61196238e+00]\n",
      " [ 5.11385051e-01  1.32119595e+00]\n",
      " [-3.35272425e-02  2.12274387e-01]\n",
      " [-8.81168588e-01  1.55954038e+00]\n",
      " [-2.75710484e-01 -1.12252330e+00]\n",
      " [ 9.95751535e-01  3.74293490e-01]\n",
      " [-4.57347916e-01  3.32342115e-01]\n",
      " [ 1.11684316e+00  1.47853083e+00]\n",
      " [ 1.23793478e+00 -5.85972791e-01]\n",
      " [-1.36553507e+00 -4.11140953e-01]\n",
      " [-5.78439536e-01  1.43485731e+00]\n",
      " [-9.41714399e-01  1.29054183e+00]\n",
      " [-1.30498926e+00 -2.07101590e-01]\n",
      " [ 1.35902640e+00  1.16634096e+00]\n",
      " [ 9.35205724e-01  3.70986977e-01]\n",
      " [-2.15164674e-01 -1.56711143e+00]\n",
      " [ 5.71930862e-01  7.64944141e-01]\n",
      " [-9.40730529e-02 -1.17494529e+00]\n",
      " [ 5.11385051e-01  5.08413895e-01]\n",
      " [ 1.72230126e+00 -8.81423442e-01]\n",
      " [-5.17893726e-01  1.63910333e+00]\n",
      " [ 1.17738897e+00 -1.96562082e-01]\n",
      " [-1.36553507e+00 -7.99862805e-01]\n",
      " [ 6.32476672e-01  7.93250383e-02]\n",
      " [ 5.71930862e-01  5.76197397e-01]\n",
      " [ 2.08655999e-01 -8.31068015e-01]\n",
      " [ 8.74659914e-01 -5.05238782e-01]\n",
      " [ 8.74659914e-01 -4.87052964e-01]\n",
      " [-1.06280602e+00  1.59467207e+00]\n",
      " [-6.99531157e-01  4.10527354e-01]\n",
      " [-5.78439536e-01  2.43686254e-01]\n",
      " [-3.35272425e-02 -1.06300608e+00]\n",
      " [ 8.74659914e-01 -1.24493314e+00]\n",
      " [ 2.08655999e-01 -1.11356816e+00]\n",
      " [ 4.50839241e-01 -1.25733256e+00]\n",
      " [-1.60771831e+00  8.97480176e-01]\n",
      " [ 6.93022483e-01  8.75023446e-01]\n",
      " [-1.60771831e+00 -2.51808391e-01]\n",
      " [ 1.54066383e+00  1.46117164e+00]\n",
      " [ 1.29848059e+00  1.25148365e+00]\n",
      " [-1.00226021e+00  1.32629349e+00]\n",
      " [-9.41714399e-01  5.89147904e-01]\n",
      " [-1.30498926e+00 -1.57055571e+00]\n",
      " [ 1.48011802e+00  1.20395253e+00]\n",
      " [ 6.32476672e-01  9.58512882e-01]\n",
      " [ 1.29848059e+00 -9.62019679e-01]\n",
      " [-4.57347916e-01 -1.25409493e+00]\n",
      " [ 8.75643783e-02 -1.09751780e+00]\n",
      " [-3.96802105e-01  1.36542055e+00]\n",
      " [-5.78439536e-01 -1.69283355e-01]\n",
      " [ 8.75643783e-02  6.90272071e-01]\n",
      " [ 2.70185679e-02  1.41240058e+00]\n",
      " [-1.12335183e+00 -6.14083914e-02]\n",
      " [-1.60771831e+00  1.75076124e-01]\n",
      " [-1.48662669e+00 -1.90500143e-01]\n",
      " [ 1.23793478e+00  5.46989872e-01]\n",
      " [ 1.60120964e+00 -1.01278842e+00]\n",
      " [-3.96802105e-01  1.65356932e+00]\n",
      " [ 1.60120964e+00 -1.17756872e-01]\n",
      " [ 2.69201810e-01  1.58405791e-01]\n",
      " [-9.40730529e-02 -9.52651228e-01]\n",
      " [-3.36256295e-01  4.39252679e-01]\n",
      " [-6.99531157e-01 -1.61732909e+00]\n",
      " [ 1.05629735e+00  2.46579452e-01]\n",
      " [ 4.50839241e-01  5.30732853e-01]\n",
      " [ 7.53568293e-01 -1.22992183e-01]\n",
      " [ 1.66175545e+00 -1.19410128e-01]\n",
      " [ 1.60120964e+00 -1.85615029e-02]\n",
      " [-3.35272425e-02 -9.82340953e-01]\n",
      " [ 5.71930862e-01 -1.99799708e-01]\n",
      " [ 1.66175545e+00  3.70298121e-01]\n",
      " [-5.17893726e-01  5.13098121e-01]\n",
      " [ 1.48011802e+00  1.22516355e-01]\n",
      " [ 6.32476672e-01 -1.53631953e+00]\n",
      " [ 1.29848059e+00  1.11736324e+00]\n",
      " [-1.30498926e+00 -9.32743268e-01]\n",
      " [-1.54618863e-01 -1.34008466e-03]\n",
      " [ 3.29747620e-01  1.43912822e+00]\n",
      " [ 1.17738897e+00  1.71356874e+00]\n",
      " [-1.00226021e+00  3.46945878e-01]\n",
      " [ 5.11385051e-01  1.53012620e+00]\n",
      " [ 8.74659914e-01 -1.38532214e+00]\n",
      " [ 8.14114103e-01 -1.48093545e+00]\n",
      " [-3.96802105e-01 -1.19409551e+00]\n",
      " [-3.36256295e-01 -1.11191490e+00]\n",
      " [ 1.11684316e+00  1.61230103e-01]\n",
      " [ 1.72230126e+00 -3.07261358e-01]\n",
      " [ 7.53568293e-01 -1.95046597e-01]\n",
      " [ 1.23793478e+00 -1.72314325e-01]\n",
      " [ 6.32476672e-01 -4.72173659e-01]\n",
      " [ 1.66175545e+00  6.15668888e-01]\n",
      " [-9.41714399e-01 -1.02284573e+00]\n",
      " [ 3.90293430e-01  1.82923321e-02]\n",
      " [ 2.70185679e-02  7.04944720e-01]\n",
      " [ 8.74659914e-01 -5.34377422e-01]\n",
      " [ 1.35902640e+00  9.16354850e-01]\n",
      " [-3.36256295e-01  1.67561274e+00]\n",
      " [-3.96802105e-01  5.86874676e-01]\n",
      " [-6.99531157e-01 -5.24526771e-01]\n",
      " [-4.57347916e-01  1.49106225e-01]\n",
      " [-3.36256295e-01 -9.51623712e-02]\n",
      " [ 1.35902640e+00 -1.18830911e+00]\n",
      " [ 1.66175545e+00  5.87770190e-01]\n",
      " [-9.41714399e-01  6.95094069e-01]\n",
      " [ 4.50839241e-01  6.22626341e-01]\n",
      " [-1.48662669e+00  1.38711954e+00]\n",
      " [ 7.53568293e-01 -6.85581474e-01]\n",
      " [-4.57347916e-01 -1.03428075e+00]\n",
      " [-1.30498926e+00 -1.07740318e+00]\n",
      " [-1.48662669e+00  1.51814009e+00]\n",
      " [ 1.23793478e+00  1.54858756e+00]\n",
      " [-2.75710484e-01  3.79666572e-01]\n",
      " [-1.60771831e+00  9.89580320e-01]\n",
      " [ 1.66175545e+00  1.55547612e+00]\n",
      " [-6.38985347e-01 -1.53776613e+00]]\n"
     ]
    }
   ],
   "source": [
    "print(X_test)"
   ]
  },
  {
   "cell_type": "markdown",
   "metadata": {
    "colab_type": "text",
    "id": "0MRC0e0KhQ0S"
   },
   "source": [
    "# K-Nearest Neighbors (K-NN) Classifier"
   ]
  },
  {
   "cell_type": "markdown",
   "metadata": {
    "colab_type": "text",
    "id": "bb6jCOCQiAmP"
   },
   "source": [
    "## Training the K-NN model on the Training set"
   ]
  },
  {
   "cell_type": "code",
   "execution_count": 15,
   "metadata": {},
   "outputs": [
    {
     "data": {
      "text/plain": [
       "KNeighborsClassifier(algorithm='auto', leaf_size=30, metric='minkowski',\n",
       "                     metric_params=None, n_jobs=None, n_neighbors=5, p=2,\n",
       "                     weights='uniform')"
      ]
     },
     "execution_count": 15,
     "metadata": {},
     "output_type": "execute_result"
    }
   ],
   "source": [
    "from sklearn.neighbors import KNeighborsClassifier\n",
    "classifier = KNeighborsClassifier(n_neighbors = 5, metric = 'minkowski', p = 2)\n",
    "classifier.fit(X_train, y_train)"
   ]
  },
  {
   "cell_type": "markdown",
   "metadata": {},
   "source": [
    "## Applying GridSearch to find the best K for the K-NN"
   ]
  },
  {
   "cell_type": "code",
   "execution_count": 16,
   "metadata": {
    "scrolled": false
   },
   "outputs": [
    {
     "name": "stdout",
     "output_type": "stream",
     "text": [
      "Best f1_score: 93.12 %\n",
      "Standard Deviation: 1.50 %\n",
      "Best K: 4\n"
     ]
    },
    {
     "data": {
      "text/html": [
       "<div>\n",
       "<style scoped>\n",
       "    .dataframe tbody tr th:only-of-type {\n",
       "        vertical-align: middle;\n",
       "    }\n",
       "\n",
       "    .dataframe tbody tr th {\n",
       "        vertical-align: top;\n",
       "    }\n",
       "\n",
       "    .dataframe thead th {\n",
       "        text-align: right;\n",
       "    }\n",
       "</style>\n",
       "<table border=\"1\" class=\"dataframe\">\n",
       "  <thead>\n",
       "    <tr style=\"text-align: right;\">\n",
       "      <th></th>\n",
       "      <th>n_neighbors</th>\n",
       "      <th>mean_test_score</th>\n",
       "      <th>std_test_score</th>\n",
       "    </tr>\n",
       "  </thead>\n",
       "  <tbody>\n",
       "    <tr>\n",
       "      <th>0</th>\n",
       "      <td>4</td>\n",
       "      <td>0.931213</td>\n",
       "      <td>0.014981</td>\n",
       "    </tr>\n",
       "    <tr>\n",
       "      <th>1</th>\n",
       "      <td>6</td>\n",
       "      <td>0.930489</td>\n",
       "      <td>0.015816</td>\n",
       "    </tr>\n",
       "    <tr>\n",
       "      <th>2</th>\n",
       "      <td>5</td>\n",
       "      <td>0.929348</td>\n",
       "      <td>0.015840</td>\n",
       "    </tr>\n",
       "    <tr>\n",
       "      <th>3</th>\n",
       "      <td>7</td>\n",
       "      <td>0.928866</td>\n",
       "      <td>0.015574</td>\n",
       "    </tr>\n",
       "    <tr>\n",
       "      <th>4</th>\n",
       "      <td>9</td>\n",
       "      <td>0.927326</td>\n",
       "      <td>0.015525</td>\n",
       "    </tr>\n",
       "    <tr>\n",
       "      <th>5</th>\n",
       "      <td>8</td>\n",
       "      <td>0.927168</td>\n",
       "      <td>0.015846</td>\n",
       "    </tr>\n",
       "    <tr>\n",
       "      <th>6</th>\n",
       "      <td>11</td>\n",
       "      <td>0.926740</td>\n",
       "      <td>0.015925</td>\n",
       "    </tr>\n",
       "    <tr>\n",
       "      <th>7</th>\n",
       "      <td>1</td>\n",
       "      <td>0.926730</td>\n",
       "      <td>0.015077</td>\n",
       "    </tr>\n",
       "    <tr>\n",
       "      <th>8</th>\n",
       "      <td>3</td>\n",
       "      <td>0.926019</td>\n",
       "      <td>0.015197</td>\n",
       "    </tr>\n",
       "    <tr>\n",
       "      <th>9</th>\n",
       "      <td>13</td>\n",
       "      <td>0.925652</td>\n",
       "      <td>0.016029</td>\n",
       "    </tr>\n",
       "    <tr>\n",
       "      <th>10</th>\n",
       "      <td>2</td>\n",
       "      <td>0.925391</td>\n",
       "      <td>0.015523</td>\n",
       "    </tr>\n",
       "    <tr>\n",
       "      <th>11</th>\n",
       "      <td>10</td>\n",
       "      <td>0.924976</td>\n",
       "      <td>0.016001</td>\n",
       "    </tr>\n",
       "    <tr>\n",
       "      <th>12</th>\n",
       "      <td>15</td>\n",
       "      <td>0.923544</td>\n",
       "      <td>0.016342</td>\n",
       "    </tr>\n",
       "    <tr>\n",
       "      <th>13</th>\n",
       "      <td>12</td>\n",
       "      <td>0.923077</td>\n",
       "      <td>0.016158</td>\n",
       "    </tr>\n",
       "    <tr>\n",
       "      <th>14</th>\n",
       "      <td>17</td>\n",
       "      <td>0.921712</td>\n",
       "      <td>0.016451</td>\n",
       "    </tr>\n",
       "    <tr>\n",
       "      <th>15</th>\n",
       "      <td>14</td>\n",
       "      <td>0.921408</td>\n",
       "      <td>0.016717</td>\n",
       "    </tr>\n",
       "    <tr>\n",
       "      <th>16</th>\n",
       "      <td>19</td>\n",
       "      <td>0.920903</td>\n",
       "      <td>0.016677</td>\n",
       "    </tr>\n",
       "    <tr>\n",
       "      <th>17</th>\n",
       "      <td>16</td>\n",
       "      <td>0.919651</td>\n",
       "      <td>0.016900</td>\n",
       "    </tr>\n",
       "    <tr>\n",
       "      <th>18</th>\n",
       "      <td>18</td>\n",
       "      <td>0.918514</td>\n",
       "      <td>0.017059</td>\n",
       "    </tr>\n",
       "    <tr>\n",
       "      <th>19</th>\n",
       "      <td>20</td>\n",
       "      <td>0.918358</td>\n",
       "      <td>0.016876</td>\n",
       "    </tr>\n",
       "  </tbody>\n",
       "</table>\n",
       "</div>"
      ],
      "text/plain": [
       "    n_neighbors  mean_test_score  std_test_score\n",
       "0             4         0.931213        0.014981\n",
       "1             6         0.930489        0.015816\n",
       "2             5         0.929348        0.015840\n",
       "3             7         0.928866        0.015574\n",
       "4             9         0.927326        0.015525\n",
       "5             8         0.927168        0.015846\n",
       "6            11         0.926740        0.015925\n",
       "7             1         0.926730        0.015077\n",
       "8             3         0.926019        0.015197\n",
       "9            13         0.925652        0.016029\n",
       "10            2         0.925391        0.015523\n",
       "11           10         0.924976        0.016001\n",
       "12           15         0.923544        0.016342\n",
       "13           12         0.923077        0.016158\n",
       "14           17         0.921712        0.016451\n",
       "15           14         0.921408        0.016717\n",
       "16           19         0.920903        0.016677\n",
       "17           16         0.919651        0.016900\n",
       "18           18         0.918514        0.017059\n",
       "19           20         0.918358        0.016876"
      ]
     },
     "execution_count": 16,
     "metadata": {},
     "output_type": "execute_result"
    }
   ],
   "source": [
    "from sklearn.model_selection import GridSearchCV\n",
    "from sklearn.model_selection import ShuffleSplit\n",
    "cv = ShuffleSplit(n_splits=1000, test_size=0.2, random_state=12345)\n",
    "grid = dict()\n",
    "grid['n_neighbors'] = np.arange(1, 21, 1)\n",
    "grid_search = GridSearchCV(classifier, grid, scoring='f1', cv=cv, n_jobs=-1)\n",
    "grid_search.fit(sc.transform(X), y)\n",
    "best_score = grid_search.best_score_\n",
    "best_K = grid_search.best_params_\n",
    "print(\"Best f1_score: {:.2f} %\".format(best_score*100))\n",
    "std = grid_search.cv_results_['std_test_score'][grid_search.best_index_]\n",
    "print(\"Standard Deviation: {:.2f} %\".format(std*100))\n",
    "print(\"Best K:\", best_K['n_neighbors'])\n",
    "evaluation_results = evaluation_results.append({'Model': 'K-NN', 'F1-score': best_score, 'Std': std, 'Best Parameter': best_K}, ignore_index=True)\n",
    "results = pd.concat([pd.DataFrame({\"n_neighbors\": np.arange(1, 21, 1)}), pd.DataFrame(grid_search.cv_results_)[['mean_test_score', 'std_test_score']]],axis=1)\n",
    "results.sort_values(by=['mean_test_score'], ascending=False).reset_index(drop=True)"
   ]
  },
  {
   "cell_type": "markdown",
   "metadata": {},
   "source": [
    "## Retraining the model with the best hyperparameters"
   ]
  },
  {
   "cell_type": "code",
   "execution_count": 17,
   "metadata": {},
   "outputs": [
    {
     "data": {
      "text/plain": [
       "KNeighborsClassifier(algorithm='auto', leaf_size=30, metric='minkowski',\n",
       "                     metric_params=None, n_jobs=None, n_neighbors=4, p=2,\n",
       "                     weights='uniform')"
      ]
     },
     "execution_count": 17,
     "metadata": {},
     "output_type": "execute_result"
    }
   ],
   "source": [
    "classifier = KNeighborsClassifier(n_neighbors = best_K['n_neighbors'], metric = 'minkowski', p = 2)\n",
    "classifier.fit(X_train, y_train)"
   ]
  },
  {
   "cell_type": "markdown",
   "metadata": {
    "colab_type": "text",
    "id": "h4Hwj34ziWQW"
   },
   "source": [
    "## Making the Confusion Matrix"
   ]
  },
  {
   "cell_type": "code",
   "execution_count": 18,
   "metadata": {},
   "outputs": [
    {
     "name": "stdout",
     "output_type": "stream",
     "text": [
      "[[ 75   1]\n",
      " [ 12 113]]\n"
     ]
    },
    {
     "data": {
      "text/plain": [
       "0.9456066945606694"
      ]
     },
     "execution_count": 18,
     "metadata": {},
     "output_type": "execute_result"
    }
   ],
   "source": [
    "from sklearn.metrics import confusion_matrix, f1_score\n",
    "y_pred = classifier.predict(X_test)\n",
    "cm = confusion_matrix(y_test, y_pred)\n",
    "print(cm)\n",
    "f1_score(y_test, y_pred)"
   ]
  },
  {
   "cell_type": "markdown",
   "metadata": {
    "colab_type": "text",
    "id": "SZ-j28aPihZx"
   },
   "source": [
    "## Visualising the Test set results"
   ]
  },
  {
   "cell_type": "code",
   "execution_count": 19,
   "metadata": {},
   "outputs": [
    {
     "name": "stderr",
     "output_type": "stream",
     "text": [
      "'c' argument looks like a single numeric RGB or RGBA sequence, which should be avoided as value-mapping will have precedence in case its length matches with 'x' & 'y'.  Please use a 2-D array with a single row if you really want to specify the same RGB or RGBA value for all points.\n",
      "'c' argument looks like a single numeric RGB or RGBA sequence, which should be avoided as value-mapping will have precedence in case its length matches with 'x' & 'y'.  Please use a 2-D array with a single row if you really want to specify the same RGB or RGBA value for all points.\n"
     ]
    },
    {
     "data": {
      "image/png": "[encoded data removed]",
      "text/plain": [
       "<Figure size 432x288 with 1 Axes>"
      ]
     },
     "metadata": {
      "needs_background": "light"
     },
     "output_type": "display_data"
    }
   ],
   "source": [
    "from matplotlib.colors import ListedColormap\n",
    "X_set, y_set = sc.inverse_transform(X_test), y_test\n",
    "X1, X2 = np.meshgrid(np.arange(start = X_set[:, 0].min() - 10, stop = X_set[:, 0].max() + 10, step = 1),\n",
    "                     np.arange(start = X_set[:, 1].min() - 1000, stop = X_set[:, 1].max() + 1000, step = 1))\n",
    "plt.contourf(X1, X2, classifier.predict(sc.transform(np.array([X1.ravel(), X2.ravel()]).T)).reshape(X1.shape),\n",
    "             alpha = 0.75, cmap = ListedColormap(('red', 'green')))\n",
    "plt.xlim(X1.min(), X1.max())\n",
    "plt.ylim(X2.min(), X2.max())\n",
    "for i, j in enumerate(np.unique(y_set)):\n",
    "    plt.scatter(X_set[y_set == j, 0], X_set[y_set == j, 1], c = ListedColormap(('red', 'green'))(i), label = j)\n",
    "plt.title('K-NN (Test set)')\n",
    "plt.xlabel('Height')\n",
    "plt.ylabel('Salary')\n",
    "plt.legend()\n",
    "plt.show()"
   ]
  },
  {
   "cell_type": "markdown",
   "metadata": {
    "colab_type": "text",
    "id": "0MRC0e0KhQ0S"
   },
   "source": [
    "# Logistic Regression"
   ]
  },
  {
   "cell_type": "markdown",
   "metadata": {
    "colab_type": "text",
    "id": "bb6jCOCQiAmP"
   },
   "source": [
    "## Training the Logistic Regression model on the Training set"
   ]
  },
  {
   "cell_type": "code",
   "execution_count": 20,
   "metadata": {},
   "outputs": [
    {
     "data": {
      "text/plain": [
       "LogisticRegression(C=1.0, class_weight=None, dual=False, fit_intercept=True,\n",
       "                   intercept_scaling=1, l1_ratio=None, max_iter=100,\n",
       "                   multi_class='auto', n_jobs=None, penalty='l2',\n",
       "                   random_state=None, solver='lbfgs', tol=0.0001, verbose=0,\n",
       "                   warm_start=False)"
      ]
     },
     "execution_count": 20,
     "metadata": {},
     "output_type": "execute_result"
    }
   ],
   "source": [
    "from sklearn.linear_model import LogisticRegression\n",
    "classifier = LogisticRegression()\n",
    "classifier.fit(X_train, y_train)"
   ]
  },
  {
   "cell_type": "markdown",
   "metadata": {},
   "source": [
    "## Evaluating the Logistic Regression"
   ]
  },
  {
   "cell_type": "code",
   "execution_count": 21,
   "metadata": {},
   "outputs": [
    {
     "name": "stdout",
     "output_type": "stream",
     "text": [
      "F1-score: 81.76 %\n",
      "Standard Deviation: 2.38 %\n"
     ]
    }
   ],
   "source": [
    "from sklearn.model_selection import cross_val_score\n",
    "from sklearn.model_selection import ShuffleSplit\n",
    "cv = ShuffleSplit(n_splits=1000, test_size=0.2, random_state=12345)\n",
    "scores = cross_val_score(classifier, sc.transform(X), y, scoring='f1', cv=cv)\n",
    "print(\"F1-score: {:.2f} %\".format(scores.mean()*100))\n",
    "print(\"Standard Deviation: {:.2f} %\".format(scores.std()*100))\n",
    "evaluation_results = evaluation_results.append({'Model': 'Logistic Regression', 'F1-score': scores.mean(), 'Std': scores.std()}, ignore_index=True)"
   ]
  },
  {
   "cell_type": "markdown",
   "metadata": {
    "colab_type": "text",
    "id": "h4Hwj34ziWQW"
   },
   "source": [
    "## Making the Confusion Matrix"
   ]
  },
  {
   "cell_type": "code",
   "execution_count": 22,
   "metadata": {},
   "outputs": [
    {
     "name": "stdout",
     "output_type": "stream",
     "text": [
      "[[ 53  23]\n",
      " [ 16 109]]\n"
     ]
    }
   ],
   "source": [
    "from sklearn.metrics import confusion_matrix, f1_score\n",
    "y_pred = classifier.predict(X_test)\n",
    "cm = confusion_matrix(y_test, y_pred)\n",
    "print(cm)"
   ]
  },
  {
   "cell_type": "markdown",
   "metadata": {
    "colab_type": "text",
    "id": "SZ-j28aPihZx"
   },
   "source": [
    "## Visualising the Test set results"
   ]
  },
  {
   "cell_type": "code",
   "execution_count": 23,
   "metadata": {
    "scrolled": false
   },
   "outputs": [
    {
     "name": "stderr",
     "output_type": "stream",
     "text": [
      "'c' argument looks like a single numeric RGB or RGBA sequence, which should be avoided as value-mapping will have precedence in case its length matches with 'x' & 'y'.  Please use a 2-D array with a single row if you really want to specify the same RGB or RGBA value for all points.\n",
      "'c' argument looks like a single numeric RGB or RGBA sequence, which should be avoided as value-mapping will have precedence in case its length matches with 'x' & 'y'.  Please use a 2-D array with a single row if you really want to specify the same RGB or RGBA value for all points.\n"
     ]
    },
    {
     "data": {
      "image/png": "[encoded data removed]",
      "text/plain": [
       "<Figure size 432x288 with 1 Axes>"
      ]
     },
     "metadata": {
      "needs_background": "light"
     },
     "output_type": "display_data"
    }
   ],
   "source": [
    "from matplotlib.colors import ListedColormap\n",
    "X_set, y_set = sc.inverse_transform(X_test), y_test\n",
    "X1, X2 = np.meshgrid(np.arange(start = X_set[:, 0].min() - 10, stop = X_set[:, 0].max() + 10, step = 1),\n",
    "                     np.arange(start = X_set[:, 1].min() - 1000, stop = X_set[:, 1].max() + 1000, step = 1))\n",
    "plt.contourf(X1, X2, classifier.predict(sc.transform(np.array([X1.ravel(), X2.ravel()]).T)).reshape(X1.shape),\n",
    "             alpha = 0.75, cmap = ListedColormap(('red', 'green')))\n",
    "plt.xlim(X1.min(), X1.max())\n",
    "plt.ylim(X2.min(), X2.max())\n",
    "for i, j in enumerate(np.unique(y_set)):\n",
    "    plt.scatter(X_set[y_set == j, 0], X_set[y_set == j, 1], c = ListedColormap(('red', 'green'))(i), label = j)\n",
    "plt.title('Logistic Regression (Test set)')\n",
    "plt.xlabel('Height')\n",
    "plt.ylabel('Salary')\n",
    "plt.legend()\n",
    "plt.show()"
   ]
  },
  {
   "cell_type": "markdown",
   "metadata": {},
   "source": [
    "# SVC Linear"
   ]
  },
  {
   "cell_type": "markdown",
   "metadata": {
    "colab_type": "text",
    "id": "bb6jCOCQiAmP"
   },
   "source": [
    "## Training the SVC Linear model on the Training set"
   ]
  },
  {
   "cell_type": "code",
   "execution_count": 24,
   "metadata": {},
   "outputs": [
    {
     "data": {
      "text/plain": [
       "SVC(C=1.0, break_ties=False, cache_size=200, class_weight=None, coef0=0.0,\n",
       "    decision_function_shape='ovr', degree=3, gamma='scale', kernel='linear',\n",
       "    max_iter=-1, probability=False, random_state=None, shrinking=True,\n",
       "    tol=0.001, verbose=False)"
      ]
     },
     "execution_count": 24,
     "metadata": {},
     "output_type": "execute_result"
    }
   ],
   "source": [
    "from sklearn.svm import SVC\n",
    "classifier = SVC(kernel = 'linear')\n",
    "classifier.fit(X_train, y_train)"
   ]
  },
  {
   "cell_type": "markdown",
   "metadata": {},
   "source": [
    "## Evaluating the SCV Linear"
   ]
  },
  {
   "cell_type": "code",
   "execution_count": 25,
   "metadata": {},
   "outputs": [
    {
     "name": "stdout",
     "output_type": "stream",
     "text": [
      "F1-score: 82.25 %\n",
      "Standard Deviation: 2.33 %\n"
     ]
    }
   ],
   "source": [
    "from sklearn.model_selection import cross_val_score\n",
    "from sklearn.model_selection import ShuffleSplit\n",
    "cv = ShuffleSplit(n_splits=1000, test_size=0.2, random_state=12345)\n",
    "scores = cross_val_score(classifier, sc.transform(X), y, scoring='f1', cv=cv)\n",
    "print(\"F1-score: {:.2f} %\".format(scores.mean()*100))\n",
    "print(\"Standard Deviation: {:.2f} %\".format(scores.std()*100))\n",
    "evaluation_results = evaluation_results.append({'Model': 'SCV Linear', 'F1-score': scores.mean(), 'Std': scores.std()}, ignore_index=True)"
   ]
  },
  {
   "cell_type": "markdown",
   "metadata": {
    "colab_type": "text",
    "id": "h4Hwj34ziWQW"
   },
   "source": [
    "## Making the Confusion Matrix"
   ]
  },
  {
   "cell_type": "code",
   "execution_count": 26,
   "metadata": {},
   "outputs": [
    {
     "name": "stdout",
     "output_type": "stream",
     "text": [
      "[[ 54  22]\n",
      " [ 16 109]]\n"
     ]
    }
   ],
   "source": [
    "from sklearn.metrics import confusion_matrix, f1_score\n",
    "y_pred = classifier.predict(X_test)\n",
    "cm = confusion_matrix(y_test, y_pred)\n",
    "print(cm)"
   ]
  },
  {
   "cell_type": "markdown",
   "metadata": {
    "colab_type": "text",
    "id": "SZ-j28aPihZx"
   },
   "source": [
    "## Visualising the Test set results"
   ]
  },
  {
   "cell_type": "code",
   "execution_count": 27,
   "metadata": {},
   "outputs": [
    {
     "name": "stderr",
     "output_type": "stream",
     "text": [
      "'c' argument looks like a single numeric RGB or RGBA sequence, which should be avoided as value-mapping will have precedence in case its length matches with 'x' & 'y'.  Please use a 2-D array with a single row if you really want to specify the same RGB or RGBA value for all points.\n",
      "'c' argument looks like a single numeric RGB or RGBA sequence, which should be avoided as value-mapping will have precedence in case its length matches with 'x' & 'y'.  Please use a 2-D array with a single row if you really want to specify the same RGB or RGBA value for all points.\n"
     ]
    },
    {
     "data": {
      "image/png": "[encoded data removed]",
      "text/plain": [
       "<Figure size 432x288 with 1 Axes>"
      ]
     },
     "metadata": {
      "needs_background": "light"
     },
     "output_type": "display_data"
    }
   ],
   "source": [
    "from matplotlib.colors import ListedColormap\n",
    "X_set, y_set = sc.inverse_transform(X_test), y_test\n",
    "X1, X2 = np.meshgrid(np.arange(start = X_set[:, 0].min() - 10, stop = X_set[:, 0].max() + 10, step = 1),\n",
    "                     np.arange(start = X_set[:, 1].min() - 1000, stop = X_set[:, 1].max() + 1000, step = 1))\n",
    "plt.contourf(X1, X2, classifier.predict(sc.transform(np.array([X1.ravel(), X2.ravel()]).T)).reshape(X1.shape),\n",
    "             alpha = 0.75, cmap = ListedColormap(('red', 'green')))\n",
    "plt.xlim(X1.min(), X1.max())\n",
    "plt.ylim(X2.min(), X2.max())\n",
    "for i, j in enumerate(np.unique(y_set)):\n",
    "    plt.scatter(X_set[y_set == j, 0], X_set[y_set == j, 1], c = ListedColormap(('red', 'green'))(i), label = j)\n",
    "plt.title('SVC Linear (Test set)')\n",
    "plt.xlabel('Height')\n",
    "plt.ylabel('Salary')\n",
    "plt.legend()\n",
    "plt.show()"
   ]
  },
  {
   "cell_type": "markdown",
   "metadata": {},
   "source": [
    "# Polynomial SVC"
   ]
  },
  {
   "cell_type": "markdown",
   "metadata": {
    "colab_type": "text",
    "id": "bb6jCOCQiAmP"
   },
   "source": [
    "## Training the Polynomial SVC model on the Training set"
   ]
  },
  {
   "cell_type": "code",
   "execution_count": 28,
   "metadata": {},
   "outputs": [
    {
     "data": {
      "text/plain": [
       "SVC(C=1.0, break_ties=False, cache_size=200, class_weight=None, coef0=0.0,\n",
       "    decision_function_shape='ovr', degree=3, gamma='scale', kernel='poly',\n",
       "    max_iter=-1, probability=False, random_state=None, shrinking=True,\n",
       "    tol=0.001, verbose=False)"
      ]
     },
     "execution_count": 28,
     "metadata": {},
     "output_type": "execute_result"
    }
   ],
   "source": [
    "from sklearn.svm import SVC\n",
    "classifier = SVC(kernel = 'poly')\n",
    "classifier.fit(X_train, y_train)"
   ]
  },
  {
   "cell_type": "markdown",
   "metadata": {},
   "source": [
    "## Applying GridSearch to find the best Degree for the Poly SVC"
   ]
  },
  {
   "cell_type": "code",
   "execution_count": 29,
   "metadata": {},
   "outputs": [
    {
     "name": "stdout",
     "output_type": "stream",
     "text": [
      "Best f1_score: 83.87 %\n",
      "Standard Deviation: 2.25 %\n",
      "Best Degree: 3\n"
     ]
    },
    {
     "data": {
      "text/html": [
       "<div>\n",
       "<style scoped>\n",
       "    .dataframe tbody tr th:only-of-type {\n",
       "        vertical-align: middle;\n",
       "    }\n",
       "\n",
       "    .dataframe tbody tr th {\n",
       "        vertical-align: top;\n",
       "    }\n",
       "\n",
       "    .dataframe thead th {\n",
       "        text-align: right;\n",
       "    }\n",
       "</style>\n",
       "<table border=\"1\" class=\"dataframe\">\n",
       "  <thead>\n",
       "    <tr style=\"text-align: right;\">\n",
       "      <th></th>\n",
       "      <th>degree</th>\n",
       "      <th>mean_test_score</th>\n",
       "      <th>std_test_score</th>\n",
       "    </tr>\n",
       "  </thead>\n",
       "  <tbody>\n",
       "    <tr>\n",
       "      <th>0</th>\n",
       "      <td>3</td>\n",
       "      <td>0.838722</td>\n",
       "      <td>0.022530</td>\n",
       "    </tr>\n",
       "    <tr>\n",
       "      <th>1</th>\n",
       "      <td>5</td>\n",
       "      <td>0.817380</td>\n",
       "      <td>0.023475</td>\n",
       "    </tr>\n",
       "    <tr>\n",
       "      <th>2</th>\n",
       "      <td>4</td>\n",
       "      <td>0.768814</td>\n",
       "      <td>0.024261</td>\n",
       "    </tr>\n",
       "    <tr>\n",
       "      <th>3</th>\n",
       "      <td>2</td>\n",
       "      <td>0.754985</td>\n",
       "      <td>0.023888</td>\n",
       "    </tr>\n",
       "  </tbody>\n",
       "</table>\n",
       "</div>"
      ],
      "text/plain": [
       "   degree  mean_test_score  std_test_score\n",
       "0       3         0.838722        0.022530\n",
       "1       5         0.817380        0.023475\n",
       "2       4         0.768814        0.024261\n",
       "3       2         0.754985        0.023888"
      ]
     },
     "execution_count": 29,
     "metadata": {},
     "output_type": "execute_result"
    }
   ],
   "source": [
    "from sklearn.model_selection import GridSearchCV\n",
    "from sklearn.model_selection import ShuffleSplit\n",
    "cv = ShuffleSplit(n_splits=1000, test_size=0.2, random_state=12345)\n",
    "grid = dict()\n",
    "grid['degree'] = np.arange(2, 6, 1)\n",
    "grid_search = GridSearchCV(classifier, grid, scoring='f1', cv=cv, n_jobs=-1)\n",
    "grid_search.fit(sc.transform(X), y)\n",
    "best_score = grid_search.best_score_\n",
    "best_m = grid_search.best_params_\n",
    "print(\"Best f1_score: {:.2f} %\".format(best_score*100))\n",
    "std = grid_search.cv_results_['std_test_score'][grid_search.best_index_]\n",
    "print(\"Standard Deviation: {:.2f} %\".format(std*100))\n",
    "print(\"Best Degree:\", best_m['degree'])\n",
    "evaluation_results = evaluation_results.append({'Model': 'Polynomial SVC', 'F1-score': best_score, 'Std': std, 'Best Parameter': best_m}, ignore_index=True)\n",
    "results = pd.concat([pd.DataFrame({\"degree\": np.arange(2, 6, 1)}), pd.DataFrame(grid_search.cv_results_)[['mean_test_score', 'std_test_score']]],axis=1)\n",
    "results.sort_values(by=['mean_test_score'], ascending=False).reset_index(drop=True)"
   ]
  },
  {
   "cell_type": "markdown",
   "metadata": {},
   "source": [
    "## Retraining the model with the best hyperparameters"
   ]
  },
  {
   "cell_type": "code",
   "execution_count": 30,
   "metadata": {},
   "outputs": [
    {
     "data": {
      "text/plain": [
       "SVC(C=1.0, break_ties=False, cache_size=200, class_weight=None, coef0=0.0,\n",
       "    decision_function_shape='ovr', degree=3, gamma='scale', kernel='poly',\n",
       "    max_iter=-1, probability=False, random_state=None, shrinking=True,\n",
       "    tol=0.001, verbose=False)"
      ]
     },
     "execution_count": 30,
     "metadata": {},
     "output_type": "execute_result"
    }
   ],
   "source": [
    "from sklearn.svm import SVC\n",
    "classifier = SVC(kernel = 'poly', degree = best_m['degree'])\n",
    "classifier.fit(X_train, y_train)"
   ]
  },
  {
   "cell_type": "markdown",
   "metadata": {
    "colab_type": "text",
    "id": "h4Hwj34ziWQW"
   },
   "source": [
    "## Making the Confusion Matrix"
   ]
  },
  {
   "cell_type": "code",
   "execution_count": 31,
   "metadata": {},
   "outputs": [
    {
     "name": "stdout",
     "output_type": "stream",
     "text": [
      "[[ 46  30]\n",
      " [ 10 115]]\n"
     ]
    },
    {
     "data": {
      "text/plain": [
       "0.851851851851852"
      ]
     },
     "execution_count": 31,
     "metadata": {},
     "output_type": "execute_result"
    }
   ],
   "source": [
    "from sklearn.metrics import confusion_matrix, f1_score\n",
    "y_pred = classifier.predict(X_test)\n",
    "cm = confusion_matrix(y_test, y_pred)\n",
    "print(cm)\n",
    "f1_score(y_test, y_pred)"
   ]
  },
  {
   "cell_type": "markdown",
   "metadata": {
    "colab_type": "text",
    "id": "SZ-j28aPihZx"
   },
   "source": [
    "## Visualising the Test set results"
   ]
  },
  {
   "cell_type": "code",
   "execution_count": 32,
   "metadata": {},
   "outputs": [
    {
     "name": "stderr",
     "output_type": "stream",
     "text": [
      "'c' argument looks like a single numeric RGB or RGBA sequence, which should be avoided as value-mapping will have precedence in case its length matches with 'x' & 'y'.  Please use a 2-D array with a single row if you really want to specify the same RGB or RGBA value for all points.\n",
      "'c' argument looks like a single numeric RGB or RGBA sequence, which should be avoided as value-mapping will have precedence in case its length matches with 'x' & 'y'.  Please use a 2-D array with a single row if you really want to specify the same RGB or RGBA value for all points.\n"
     ]
    },
    {
     "data": {
      "image/png": "[encoded data removed]",
      "text/plain": [
       "<Figure size 432x288 with 1 Axes>"
      ]
     },
     "metadata": {
      "needs_background": "light"
     },
     "output_type": "display_data"
    }
   ],
   "source": [
    "from matplotlib.colors import ListedColormap\n",
    "X_set, y_set = sc.inverse_transform(X_test), y_test\n",
    "X1, X2 = np.meshgrid(np.arange(start = X_set[:, 0].min() - 10, stop = X_set[:, 0].max() + 10, step = 1),\n",
    "                     np.arange(start = X_set[:, 1].min() - 1000, stop = X_set[:, 1].max() + 1000, step = 1))\n",
    "plt.contourf(X1, X2, classifier.predict(sc.transform(np.array([X1.ravel(), X2.ravel()]).T)).reshape(X1.shape),\n",
    "             alpha = 0.75, cmap = ListedColormap(('red', 'green')))\n",
    "plt.xlim(X1.min(), X1.max())\n",
    "plt.ylim(X2.min(), X2.max())\n",
    "for i, j in enumerate(np.unique(y_set)):\n",
    "    plt.scatter(X_set[y_set == j, 0], X_set[y_set == j, 1], c = ListedColormap(('red', 'green'))(i), label = j)\n",
    "plt.title('Poly SVC (Test set)')\n",
    "plt.xlabel('Height')\n",
    "plt.ylabel('Salary')\n",
    "plt.legend()\n",
    "plt.show()"
   ]
  },
  {
   "cell_type": "markdown",
   "metadata": {},
   "source": [
    "# Gaussian SVC"
   ]
  },
  {
   "cell_type": "markdown",
   "metadata": {
    "colab_type": "text",
    "id": "bb6jCOCQiAmP"
   },
   "source": [
    "## Training the Gaussian SVC model on the Training set"
   ]
  },
  {
   "cell_type": "code",
   "execution_count": 33,
   "metadata": {},
   "outputs": [
    {
     "data": {
      "text/plain": [
       "SVC(C=1.0, break_ties=False, cache_size=200, class_weight=None, coef0=0.0,\n",
       "    decision_function_shape='ovr', degree=3, gamma='scale', kernel='rbf',\n",
       "    max_iter=-1, probability=False, random_state=None, shrinking=True,\n",
       "    tol=0.001, verbose=False)"
      ]
     },
     "execution_count": 33,
     "metadata": {},
     "output_type": "execute_result"
    }
   ],
   "source": [
    "from sklearn.svm import SVC\n",
    "classifier = SVC(kernel = 'rbf')\n",
    "classifier.fit(X_train, y_train)"
   ]
  },
  {
   "cell_type": "markdown",
   "metadata": {},
   "source": [
    "## Applying GridSearch to find the best C for the Gaussian SVC"
   ]
  },
  {
   "cell_type": "code",
   "execution_count": 34,
   "metadata": {},
   "outputs": [
    {
     "name": "stdout",
     "output_type": "stream",
     "text": [
      "Best f1_score: 91.86 %\n",
      "Standard Deviation: 1.70 %\n",
      "Best C: 3.0\n"
     ]
    },
    {
     "data": {
      "text/html": [
       "<div>\n",
       "<style scoped>\n",
       "    .dataframe tbody tr th:only-of-type {\n",
       "        vertical-align: middle;\n",
       "    }\n",
       "\n",
       "    .dataframe tbody tr th {\n",
       "        vertical-align: top;\n",
       "    }\n",
       "\n",
       "    .dataframe thead th {\n",
       "        text-align: right;\n",
       "    }\n",
       "</style>\n",
       "<table border=\"1\" class=\"dataframe\">\n",
       "  <thead>\n",
       "    <tr style=\"text-align: right;\">\n",
       "      <th></th>\n",
       "      <th>degree</th>\n",
       "      <th>mean_test_score</th>\n",
       "      <th>std_test_score</th>\n",
       "    </tr>\n",
       "  </thead>\n",
       "  <tbody>\n",
       "    <tr>\n",
       "      <th>0</th>\n",
       "      <td>3.0</td>\n",
       "      <td>0.918631</td>\n",
       "      <td>0.016996</td>\n",
       "    </tr>\n",
       "    <tr>\n",
       "      <th>1</th>\n",
       "      <td>1.8</td>\n",
       "      <td>0.914608</td>\n",
       "      <td>0.017660</td>\n",
       "    </tr>\n",
       "    <tr>\n",
       "      <th>2</th>\n",
       "      <td>1.2</td>\n",
       "      <td>0.912398</td>\n",
       "      <td>0.017798</td>\n",
       "    </tr>\n",
       "    <tr>\n",
       "      <th>3</th>\n",
       "      <td>0.5</td>\n",
       "      <td>0.904314</td>\n",
       "      <td>0.019078</td>\n",
       "    </tr>\n",
       "    <tr>\n",
       "      <th>4</th>\n",
       "      <td>0.2</td>\n",
       "      <td>0.889348</td>\n",
       "      <td>0.019602</td>\n",
       "    </tr>\n",
       "  </tbody>\n",
       "</table>\n",
       "</div>"
      ],
      "text/plain": [
       "   degree  mean_test_score  std_test_score\n",
       "0     3.0         0.918631        0.016996\n",
       "1     1.8         0.914608        0.017660\n",
       "2     1.2         0.912398        0.017798\n",
       "3     0.5         0.904314        0.019078\n",
       "4     0.2         0.889348        0.019602"
      ]
     },
     "execution_count": 34,
     "metadata": {},
     "output_type": "execute_result"
    }
   ],
   "source": [
    "from sklearn.model_selection import GridSearchCV\n",
    "from sklearn.model_selection import ShuffleSplit\n",
    "cv = ShuffleSplit(n_splits=1000, test_size=0.2, random_state=12345)\n",
    "grid = dict()\n",
    "grid['C'] = np.array([0.2, 0.5, 1.2, 1.8, 3])\n",
    "grid_search = GridSearchCV(classifier, grid, scoring='f1', cv=cv, n_jobs=-1)\n",
    "grid_search.fit(sc.transform(X), y)\n",
    "best_score = grid_search.best_score_\n",
    "best_C = grid_search.best_params_\n",
    "print(\"Best f1_score: {:.2f} %\".format(best_score*100))\n",
    "std = grid_search.cv_results_['std_test_score'][grid_search.best_index_]\n",
    "print(\"Standard Deviation: {:.2f} %\".format(std*100))\n",
    "print(\"Best C:\", best_C['C'])\n",
    "evaluation_results = evaluation_results.append({'Model': 'Gaussian SVC', 'F1-score': best_score, 'Std': std, 'Best Parameter': best_C}, ignore_index=True)\n",
    "results = pd.concat([pd.DataFrame({\"degree\": np.array([0.2, 0.5, 1.2, 1.8, 3])}), pd.DataFrame(grid_search.cv_results_)[['mean_test_score', 'std_test_score']]],axis=1)\n",
    "results.sort_values(by=['mean_test_score'], ascending=False).reset_index(drop=True)"
   ]
  },
  {
   "cell_type": "markdown",
   "metadata": {},
   "source": [
    "## Retraining the model with the best hyperparameters"
   ]
  },
  {
   "cell_type": "code",
   "execution_count": 35,
   "metadata": {},
   "outputs": [
    {
     "data": {
      "text/plain": [
       "SVC(C=3.0, break_ties=False, cache_size=200, class_weight=None, coef0=0.0,\n",
       "    decision_function_shape='ovr', degree=3, gamma='scale', kernel='rbf',\n",
       "    max_iter=-1, probability=False, random_state=None, shrinking=True,\n",
       "    tol=0.001, verbose=False)"
      ]
     },
     "execution_count": 35,
     "metadata": {},
     "output_type": "execute_result"
    }
   ],
   "source": [
    "from sklearn.svm import SVC\n",
    "classifier = SVC(kernel = 'rbf', C = best_C['C'])\n",
    "classifier.fit(X_train, y_train)"
   ]
  },
  {
   "cell_type": "markdown",
   "metadata": {
    "colab_type": "text",
    "id": "h4Hwj34ziWQW"
   },
   "source": [
    "## Making the Confusion Matrix"
   ]
  },
  {
   "cell_type": "code",
   "execution_count": 36,
   "metadata": {},
   "outputs": [
    {
     "name": "stdout",
     "output_type": "stream",
     "text": [
      "[[ 68   8]\n",
      " [ 10 115]]\n"
     ]
    },
    {
     "data": {
      "text/plain": [
       "0.9274193548387097"
      ]
     },
     "execution_count": 36,
     "metadata": {},
     "output_type": "execute_result"
    }
   ],
   "source": [
    "from sklearn.metrics import confusion_matrix, f1_score\n",
    "y_pred = classifier.predict(X_test)\n",
    "cm = confusion_matrix(y_test, y_pred)\n",
    "print(cm)\n",
    "f1_score(y_test, y_pred)"
   ]
  },
  {
   "cell_type": "markdown",
   "metadata": {
    "colab_type": "text",
    "id": "SZ-j28aPihZx"
   },
   "source": [
    "## Visualising the Test set results"
   ]
  },
  {
   "cell_type": "code",
   "execution_count": 37,
   "metadata": {
    "scrolled": false
   },
   "outputs": [
    {
     "name": "stderr",
     "output_type": "stream",
     "text": [
      "'c' argument looks like a single numeric RGB or RGBA sequence, which should be avoided as value-mapping will have precedence in case its length matches with 'x' & 'y'.  Please use a 2-D array with a single row if you really want to specify the same RGB or RGBA value for all points.\n",
      "'c' argument looks like a single numeric RGB or RGBA sequence, which should be avoided as value-mapping will have precedence in case its length matches with 'x' & 'y'.  Please use a 2-D array with a single row if you really want to specify the same RGB or RGBA value for all points.\n"
     ]
    },
    {
     "data": {
      "image/png": "[encoded data removed]",
      "text/plain": [
       "<Figure size 432x288 with 1 Axes>"
      ]
     },
     "metadata": {
      "needs_background": "light"
     },
     "output_type": "display_data"
    }
   ],
   "source": [
    "from matplotlib.colors import ListedColormap\n",
    "X_set, y_set = sc.inverse_transform(X_test), y_test\n",
    "X1, X2 = np.meshgrid(np.arange(start = X_set[:, 0].min() - 10, stop = X_set[:, 0].max() + 10, step = 1),\n",
    "                     np.arange(start = X_set[:, 1].min() - 1000, stop = X_set[:, 1].max() + 1000, step = 1))\n",
    "plt.contourf(X1, X2, classifier.predict(sc.transform(np.array([X1.ravel(), X2.ravel()]).T)).reshape(X1.shape),\n",
    "             alpha = 0.75, cmap = ListedColormap(('red', 'green')))\n",
    "plt.xlim(X1.min(), X1.max())\n",
    "plt.ylim(X2.min(), X2.max())\n",
    "for i, j in enumerate(np.unique(y_set)):\n",
    "    plt.scatter(X_set[y_set == j, 0], X_set[y_set == j, 1], c = ListedColormap(('red', 'green'))(i), label = j)\n",
    "plt.title('Gaussian SVC (Test set)')\n",
    "plt.xlabel('Height')\n",
    "plt.ylabel('Salary')\n",
    "plt.legend()\n",
    "plt.show()"
   ]
  },
  {
   "cell_type": "markdown",
   "metadata": {},
   "source": [
    "# Evaluation Results for Model Comparison"
   ]
  },
  {
   "cell_type": "code",
   "execution_count": 38,
   "metadata": {},
   "outputs": [
    {
     "data": {
      "text/html": [
       "<div>\n",
       "<style scoped>\n",
       "    .dataframe tbody tr th:only-of-type {\n",
       "        vertical-align: middle;\n",
       "    }\n",
       "\n",
       "    .dataframe tbody tr th {\n",
       "        vertical-align: top;\n",
       "    }\n",
       "\n",
       "    .dataframe thead th {\n",
       "        text-align: right;\n",
       "    }\n",
       "</style>\n",
       "<table border=\"1\" class=\"dataframe\">\n",
       "  <thead>\n",
       "    <tr style=\"text-align: right;\">\n",
       "      <th></th>\n",
       "      <th>Model</th>\n",
       "      <th>F1-score</th>\n",
       "      <th>Std</th>\n",
       "      <th>Best Parameter</th>\n",
       "    </tr>\n",
       "  </thead>\n",
       "  <tbody>\n",
       "    <tr>\n",
       "      <th>0</th>\n",
       "      <td>K-NN</td>\n",
       "      <td>0.931213</td>\n",
       "      <td>0.014981</td>\n",
       "      <td>{'n_neighbors': 4}</td>\n",
       "    </tr>\n",
       "    <tr>\n",
       "      <th>1</th>\n",
       "      <td>Gaussian SVC</td>\n",
       "      <td>0.918631</td>\n",
       "      <td>0.016996</td>\n",
       "      <td>{'C': 3.0}</td>\n",
       "    </tr>\n",
       "    <tr>\n",
       "      <th>2</th>\n",
       "      <td>Polynomial SVC</td>\n",
       "      <td>0.838722</td>\n",
       "      <td>0.022530</td>\n",
       "      <td>{'degree': 3}</td>\n",
       "    </tr>\n",
       "    <tr>\n",
       "      <th>3</th>\n",
       "      <td>SCV Linear</td>\n",
       "      <td>0.822478</td>\n",
       "      <td>0.023350</td>\n",
       "      <td>NaN</td>\n",
       "    </tr>\n",
       "    <tr>\n",
       "      <th>4</th>\n",
       "      <td>Logistic Regression</td>\n",
       "      <td>0.817570</td>\n",
       "      <td>0.023826</td>\n",
       "      <td>NaN</td>\n",
       "    </tr>\n",
       "  </tbody>\n",
       "</table>\n",
       "</div>"
      ],
      "text/plain": [
       "                 Model  F1-score       Std      Best Parameter\n",
       "0                 K-NN  0.931213  0.014981  {'n_neighbors': 4}\n",
       "1         Gaussian SVC  0.918631  0.016996          {'C': 3.0}\n",
       "2       Polynomial SVC  0.838722  0.022530       {'degree': 3}\n",
       "3           SCV Linear  0.822478  0.023350                 NaN\n",
       "4  Logistic Regression  0.817570  0.023826                 NaN"
      ]
     },
     "execution_count": 38,
     "metadata": {},
     "output_type": "execute_result"
    }
   ],
   "source": [
    "evaluation_results.sort_values(by='F1-score', ascending=False).reset_index(drop=True)"
   ]
  }
 ],
 "metadata": {
  "kernelspec": {
   "display_name": "Python 3 (ipykernel)",
   "language": "python",
   "name": "python3"
  },
  "language_info": {
   "codemirror_mode": {
    "name": "ipython",
    "version": 3
   },
   "file_extension": ".py",
   "mimetype": "text/x-python",
   "name": "python",
   "nbconvert_exporter": "python",
   "pygments_lexer": "ipython3",
   "version": "3.9.7"
  }
 },
 "nbformat": 4,
 "nbformat_minor": 4
}
